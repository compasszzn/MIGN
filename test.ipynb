{
 "cells": [
  {
   "cell_type": "code",
   "execution_count": 1,
   "metadata": {},
   "outputs": [],
   "source": [
    "import dgl\n",
    "graph,sh_embedding=dgl.load_graphs(\"/data/zzn/insitu/insitu_daily_st/data_regular_10_all_wind_level_5/input_day_1_output_day_1_2019-12-30.bin\")"
   ]
  },
  {
   "cell_type": "code",
   "execution_count": 2,
   "metadata": {},
   "outputs": [
    {
     "data": {
      "text/plain": [
       "[Graph(num_nodes={'accumulated_precipitation': 17753, 'air_temperature_max': 7888, 'air_temperature_min': 8104, 'fresh_snow': 7244, 'healpix': 12288, 'wind_speed': 310},\n",
       "       num_edges={('accumulated_precipitation', 't0_to_healpix', 'healpix'): 122880, ('air_temperature_max', 't0_to_healpix', 'healpix'): 122880, ('air_temperature_min', 't0_to_healpix', 'healpix'): 122880, ('fresh_snow', 't0_to_healpix', 'healpix'): 122880, ('healpix', 'healpix_message', 'healpix'): 135168, ('healpix', 't1_to_accumulated_precipitation', 'accumulated_precipitation'): 177530, ('healpix', 't1_to_air_temperature_max', 'air_temperature_max'): 78880, ('healpix', 't1_to_air_temperature_min', 'air_temperature_min'): 81040, ('healpix', 't1_to_fresh_snow', 'fresh_snow'): 72440, ('healpix', 't1_to_wind_speed', 'wind_speed'): 3100, ('wind_speed', 't0_to_healpix', 'healpix'): 122880},\n",
       "       metagraph=[('accumulated_precipitation', 'healpix', 't0_to_healpix'), ('healpix', 'healpix', 'healpix_message'), ('healpix', 'accumulated_precipitation', 't1_to_accumulated_precipitation'), ('healpix', 'air_temperature_max', 't1_to_air_temperature_max'), ('healpix', 'air_temperature_min', 't1_to_air_temperature_min'), ('healpix', 'fresh_snow', 't1_to_fresh_snow'), ('healpix', 'wind_speed', 't1_to_wind_speed'), ('air_temperature_max', 'healpix', 't0_to_healpix'), ('air_temperature_min', 'healpix', 't0_to_healpix'), ('fresh_snow', 'healpix', 't0_to_healpix'), ('wind_speed', 'healpix', 't0_to_healpix')])]"
      ]
     },
     "execution_count": 2,
     "metadata": {},
     "output_type": "execute_result"
    }
   ],
   "source": [
    "graph"
   ]
  }
 ],
 "metadata": {
  "kernelspec": {
   "display_name": "dgl",
   "language": "python",
   "name": "python3"
  },
  "language_info": {
   "codemirror_mode": {
    "name": "ipython",
    "version": 3
   },
   "file_extension": ".py",
   "mimetype": "text/x-python",
   "name": "python",
   "nbconvert_exporter": "python",
   "pygments_lexer": "ipython3",
   "version": "3.10.15"
  },
  "orig_nbformat": 4
 },
 "nbformat": 4,
 "nbformat_minor": 2
}
