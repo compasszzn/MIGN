{
 "cells": [
  {
   "cell_type": "code",
   "execution_count": 1,
   "metadata": {},
   "outputs": [],
   "source": [
    "import dgl\n",
    "a = dgl.load_graphs(\"/mnt/hda/zzn/realtime/nips/dgl_neighbor_10_step_1_refine_4/input_day_1_output_day_1_2022-12-21.bin\")"
   ]
  },
  {
   "cell_type": "code",
   "execution_count": 2,
   "metadata": {},
   "outputs": [
    {
     "name": "stdout",
     "output_type": "stream",
     "text": [
      "([Graph(num_nodes={'MAX': 11014, 'MIN': 11023, 'MXSPD': 10405, 'SLP': 7287, 'VISIB': 8008, 'WDSP': 10639, 'healpix': 3072},\n",
      "      num_edges={('MAX', 't0_to_healpix', 'healpix'): 30720, ('MIN', 't0_to_healpix', 'healpix'): 30720, ('MXSPD', 't0_to_healpix', 'healpix'): 30720, ('SLP', 't0_to_healpix', 'healpix'): 30720, ('VISIB', 't0_to_healpix', 'healpix'): 30720, ('WDSP', 't0_to_healpix', 'healpix'): 30720, ('healpix', 'healpix_message', 'healpix'): 33792, ('healpix', 't1_to_MAX', 'MAX'): 110140, ('healpix', 't1_to_MIN', 'MIN'): 110230, ('healpix', 't1_to_MXSPD', 'MXSPD'): 104050, ('healpix', 't1_to_SLP', 'SLP'): 72870, ('healpix', 't1_to_VISIB', 'VISIB'): 80080, ('healpix', 't1_to_WDSP', 'WDSP'): 106390},\n",
      "      metagraph=[('MAX', 'healpix', 't0_to_healpix'), ('healpix', 'healpix', 'healpix_message'), ('healpix', 'MAX', 't1_to_MAX'), ('healpix', 'MIN', 't1_to_MIN'), ('healpix', 'MXSPD', 't1_to_MXSPD'), ('healpix', 'SLP', 't1_to_SLP'), ('healpix', 'VISIB', 't1_to_VISIB'), ('healpix', 'WDSP', 't1_to_WDSP'), ('MIN', 'healpix', 't0_to_healpix'), ('MXSPD', 'healpix', 't0_to_healpix'), ('SLP', 'healpix', 't0_to_healpix'), ('VISIB', 'healpix', 't0_to_healpix'), ('WDSP', 'healpix', 't0_to_healpix')])], {'MAX': tensor([0, 1, 1,  ..., 0, 0, 0], dtype=torch.uint8), 'MIN': tensor([0, 1, 1,  ..., 0, 0, 0], dtype=torch.uint8), 'SLP': tensor([0, 1, 1,  ..., 0, 0, 0], dtype=torch.uint8), 'WDSP': tensor([0, 1, 1,  ..., 0, 0, 0], dtype=torch.uint8), 'MXSPD': tensor([0, 1, 1,  ..., 0, 0, 0], dtype=torch.uint8), 'VISIB': tensor([1, 1, 1,  ..., 0, 0, 0], dtype=torch.uint8)})\n"
     ]
    }
   ],
   "source": [
    "print(a)"
   ]
  }
 ],
 "metadata": {
  "kernelspec": {
   "display_name": "dgl",
   "language": "python",
   "name": "python3"
  },
  "language_info": {
   "codemirror_mode": {
    "name": "ipython",
    "version": 3
   },
   "file_extension": ".py",
   "mimetype": "text/x-python",
   "name": "python",
   "nbconvert_exporter": "python",
   "pygments_lexer": "ipython3",
   "version": "3.10.15"
  },
  "orig_nbformat": 4
 },
 "nbformat": 4,
 "nbformat_minor": 2
}
